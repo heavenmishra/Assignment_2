{
 "cells": [
  {
   "cell_type": "code",
   "execution_count": 1,
   "id": "6c0f4f38",
   "metadata": {},
   "outputs": [
    {
     "name": "stdout",
     "output_type": "stream",
     "text": [
      "*\r\n",
      "**\r\n",
      "***\r\n",
      "****\r\n",
      "*****\r\n",
      "****\r\n",
      "***\r\n",
      "**\r\n",
      "*\r\n"
     ]
    }
   ],
   "source": [
    "for i in range(9):\n",
    "    if i<5:\n",
    "        for j in range(i+1):\n",
    "            print(\"*\",end=\"\")\n",
    "    else:\n",
    "        for j in range(9-i,0,-1):\n",
    "            print(\"*\",end=\"\")\n",
    "    print(\"\\r\")"
   ]
  },
  {
   "cell_type": "code",
   "execution_count": 2,
   "id": "be7d0393",
   "metadata": {},
   "outputs": [
    {
     "name": "stdout",
     "output_type": "stream",
     "text": [
      "enter a word to reverse:\n",
      "siddharth\n",
      "htrahddis\n"
     ]
    }
   ],
   "source": [
    "word= input(\"enter a word to reverse:\\n\")\n",
    "print(word[(len(word)-1)::-1])"
   ]
  },
  {
   "cell_type": "code",
   "execution_count": null,
   "id": "bc280871",
   "metadata": {},
   "outputs": [],
   "source": []
  }
 ],
 "metadata": {
  "kernelspec": {
   "display_name": "Python 3",
   "language": "python",
   "name": "python3"
  },
  "language_info": {
   "codemirror_mode": {
    "name": "ipython",
    "version": 3
   },
   "file_extension": ".py",
   "mimetype": "text/x-python",
   "name": "python",
   "nbconvert_exporter": "python",
   "pygments_lexer": "ipython3",
   "version": "3.8.8"
  }
 },
 "nbformat": 4,
 "nbformat_minor": 5
}
